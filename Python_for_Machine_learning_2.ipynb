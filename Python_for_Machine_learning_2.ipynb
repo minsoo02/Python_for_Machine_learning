{
 "cells": [
  {
   "cell_type": "markdown",
   "metadata": {},
   "source": [
    "### 10. Linear Regression"
   ]
  },
  {
   "cell_type": "code",
   "execution_count": null,
   "metadata": {},
   "outputs": [],
   "source": [
    "# Gradient descent based learning\n",
    "# 실제 값과 학습된 모델의 예측 값의 오차를 최소로 만들기 위한 최적의 parameter 찾는게 목적\n",
    "\n",
    "# probability theory based learning\n",
    "# information theory based learning\n",
    "# distance similarity based learning"
   ]
  },
  {
   "cell_type": "code",
   "execution_count": null,
   "metadata": {},
   "outputs": [],
   "source": [
    "# Regression : 실수값의 범위에서 실수값을 예측하는 방법"
   ]
  },
  {
   "cell_type": "markdown",
   "metadata": {},
   "source": [
    "#### Cost Function"
   ]
  },
  {
   "cell_type": "code",
   "execution_count": 1,
   "metadata": {},
   "outputs": [],
   "source": [
    "# 예측함수 = 가설함수\n",
    "# Cost Function: 실제함수와 가설함수의 차이"
   ]
  },
  {
   "cell_type": "code",
   "execution_count": null,
   "metadata": {},
   "outputs": [],
   "source": [
    "# weights의 최적값을 컴퓨터가 찾는 방법\n",
    "## normal equation\n",
    "## gradient descent"
   ]
  },
  {
   "cell_type": "markdown",
   "metadata": {},
   "source": [
    "#### Normal Equation"
   ]
  },
  {
   "cell_type": "code",
   "execution_count": 1,
   "metadata": {},
   "outputs": [],
   "source": [
    "# intercept : 절편\n",
    "import numpy as np\n",
    "\n",
    "\n",
    "class LinearRegression(object):\n",
    "    def __init__(self, fit_intercept=True, copy_X=True):\n",
    "        self.fit_intercept = fit_intercept\n",
    "        self.copy_X = copy_X\n",
    "\n",
    "        self._coef = None\n",
    "        self._intercept = None\n",
    "        self._new_X = None\n",
    "\n",
    "    def fit(self, X, y):\n",
    "        \"\"\"\n",
    "        Linear regression 모델을 적합한다.\n",
    "        Matrix X와 Vector Y가 입력 값으로 들어오면 Normal equation을 활용하여, weight값을\n",
    "        찾는다. 이 때, instance가 생성될 때, fit_intercept 설정에 따라 fit 실행이 달라진다.\n",
    "        fit을 할 때는 입력되는 X의 값은 반드시 새로운 변수(self._new_X)에 저장\n",
    "        된 후 실행되어야 한다.\n",
    "        fit_intercept가 True일 경우:\n",
    "            - Matrix X의 0번째 Column에 값이 1인 column vector를추가한다.\n",
    "\n",
    "        적합이 종료된 후 각 변수의 계수(coefficient 또는 weight값을 의미)는 self._coef와\n",
    "        self._intercept_coef에 저장된다. 이때 self._coef는 numpy array을 각 변수항의\n",
    "        weight값을 저장한 1차원 vector이며, self._intercept_coef는 상수항의 weight를\n",
    "        저장한 scalar(float) 이다.\n",
    "        Parameters\n",
    "        ----------\n",
    "        X : numpy array, 2차원 matrix 형태로 [n_samples,n_features] 구조를 가진다\n",
    "        y : numpy array, 1차원 vector 형태로 [n_targets]의 구조를 가진다.\n",
    "\n",
    "        Returns\n",
    "        -------\n",
    "        self : 현재의 인스턴스가 리턴된다\n",
    "        \"\"\"\n",
    "        pass\n",
    "\n",
    "    def predict(self, X):\n",
    "        \"\"\"\n",
    "        적합된 Linear regression 모델을 사용하여 입력된 Matrix X의 예측값을 반환한다.\n",
    "        이 때, 입력된 Matrix X는 별도의 전처리가 없는 상태로 입력되는 걸로 가정한다.\n",
    "        fit_intercept가 True일 경우:\n",
    "            - Matrix X의 0번째 Column에 값이 1인 column vector를추가한다.\n",
    "        normalize가 True일 경우:\n",
    "            - Standard normalization으로 Matrix X의 column 0(상수)를 제외한 모든 값을\n",
    "              정규화을 실행함\n",
    "            - 정규화를 할때는 self._mu_X와 self._std_X 에 있는 값을 사용한다.\n",
    "        Parameters\n",
    "        ----------\n",
    "        X : numpy array, 2차원 matrix 형태로 [n_samples,n_features] 구조를 가진다\n",
    "\n",
    "        Returns\n",
    "        -------\n",
    "        y : numpy array, 예측된 값을 1차원 vector 형태로 [n_predicted_targets]의\n",
    "            구조를 가진다.\n",
    "        \"\"\"\n",
    "        return None\n",
    "\n",
    "    @property\n",
    "    def coef(self):\n",
    "        return self._coef\n",
    "\n",
    "    @property\n",
    "    def intercept(self):\n",
    "        return self._intercept\n"
   ]
  },
  {
   "cell_type": "markdown",
   "metadata": {},
   "source": [
    "#### Gradient Descent"
   ]
  },
  {
   "cell_type": "markdown",
   "metadata": {},
   "source": [
    "1. 정해야 하는 것\n",
    "> learning rate에 대한 선정  \n",
    "> 얼마나 많이 loop를 돌릴 것 인지\n",
    "\n",
    "2. 문제점\n",
    "> loop가 너무 적거나 클 경우 수렴하지 못 함  \n",
    "> 굴곡이 많은 함수의 경우 시작점에 따라 다른 최적값을 찾음"
   ]
  },
  {
   "cell_type": "code",
   "execution_count": 2,
   "metadata": {},
   "outputs": [],
   "source": [
    "import numpy as np\n",
    "import matplotlib.pyplot as plt"
   ]
  },
  {
   "cell_type": "code",
   "execution_count": 5,
   "metadata": {},
   "outputs": [
    {
     "data": {
      "image/png": "[encoded data removed]",
      "text/plain": [
       "<Figure size 432x288 with 1 Axes>"
      ]
     },
     "metadata": {
      "needs_background": "light"
     },
     "output_type": "display_data"
    }
   ],
   "source": [
    "# f(x) = x ** 2\n",
    "# x_new = x_old - a*(2*x_old)\n",
    "\n",
    "x= np.arange(-10,10,1)\n",
    "f_x = x ** 2\n",
    "\n",
    "plt.plot(x, f_x)\n",
    "plt.show()"
   ]
  },
  {
   "cell_type": "code",
   "execution_count": 6,
   "metadata": {},
   "outputs": [],
   "source": [
    "x_new = 10\n",
    "derivative = []\n",
    "y = []\n",
    "learng_rate= 0.1\n",
    "for i in range(100):\n",
    "    old_value = x_new\n",
    "    derivative.append(old_value - learng_rate * 2 * old_value)\n",
    "    x_new = old_value - learng_rate *2* old_value\n",
    "    y.append(x_new ** 2)"
   ]
  },
  {
   "cell_type": "code",
   "execution_count": 7,
   "metadata": {},
   "outputs": [
    {
     "data": {
      "image/png": "[encoded data removed]",
      "text/plain": [
       "<Figure size 432x288 with 1 Axes>"
      ]
     },
     "metadata": {
      "needs_background": "light"
     },
     "output_type": "display_data"
    }
   ],
   "source": [
    "plt.plot(x, f_x)\n",
    "plt.scatter(derivative, y)\n",
    "plt.show()"
   ]
  },
  {
   "cell_type": "code",
   "execution_count": 8,
   "metadata": {},
   "outputs": [],
   "source": [
    "def sin_function(x):\n",
    "    return x * np.sin(x ** 2) + 1\n",
    "\n",
    "def derivitive_f(x):\n",
    "    return np.sin(x**2) + 2 * (x **2) * np.cos(x ** 2)"
   ]
  },
  {
   "cell_type": "code",
   "execution_count": 9,
   "metadata": {},
   "outputs": [],
   "source": [
    "x= np.arange(-3,3,0.001)\n",
    "f_x = sin_function(x)"
   ]
  },
  {
   "cell_type": "code",
   "execution_count": 10,
   "metadata": {},
   "outputs": [
    {
     "data": {
      "image/png": "[encoded data removed]",
      "text/plain": [
       "<Figure size 432x288 with 1 Axes>"
      ]
     },
     "metadata": {
      "needs_background": "light"
     },
     "output_type": "display_data"
    }
   ],
   "source": [
    "plt.plot(x, f_x)\n",
    "plt.show()"
   ]
  },
  {
   "cell_type": "code",
   "execution_count": 11,
   "metadata": {},
   "outputs": [
    {
     "data": {
      "image/png": "[encoded data removed]",
      "text/plain": [
       "<Figure size 432x288 with 1 Axes>"
      ]
     },
     "metadata": {
      "needs_background": "light"
     },
     "output_type": "display_data"
    }
   ],
   "source": [
    "derivative = []\n",
    "y = []\n",
    "learng_rate= 0.01\n",
    "for i in range(10000):\n",
    "    old_value = x_new\n",
    "    x_new = old_value - learng_rate * derivitive_f(old_value)\n",
    "    derivative.append(x_new)\n",
    "    y.append(sin_function(x_new))\n",
    "\n",
    "plt.plot(x, f_x)\n",
    "plt.scatter(derivative, y)\n",
    "plt.show()"
   ]
  },
  {
   "cell_type": "markdown",
   "metadata": {},
   "source": [
    "#### Linear Regression with Gradient Descent"
   ]
  },
  {
   "cell_type": "markdown",
   "metadata": {},
   "source": [
    "1. 임의의 $ \\theta_0,\\theta_1 $으로 초기화  \n",
    "2. Cost function J($\\theta_0,\\theta_1$)이 최소화 될때까지 학습  \n",
    "3. 더 이상 Cost function이 줄어들지 않거나, 학습 횟수를 초과하면 종료  \n",
    "4. lteration 1회에 1번 parameter update  \n",
    "5. 최적값에 수렴하지 않을 수 있다."
   ]
  },
  {
   "cell_type": "code",
   "execution_count": 14,
   "metadata": {},
   "outputs": [],
   "source": [
    "def gradient_descent(X, y, w, alpha, iterations):\n",
    "    theta = w\n",
    "    m = len(y)\n",
    "    \n",
    "    theta_list = [theta.tolist()]\n",
    "    cost = cost_function(hypothesis_function(X, theta), y)\n",
    "    cost_list = [cost]\n",
    "\n",
    "    for i in range(iterations):\n",
    "        t0 = theta[0] - (alpha / m) * np.sum(np.dot(X, theta) - y)\n",
    "        t1 = theta[1] - (alpha / m) * np.sum((np.dot(X, theta) - y) * X[:,1])\n",
    "        theta = np.array([t0, t1])\n",
    "        \n",
    "        if i % 10== 0:\n",
    "            theta_list.append(theta.tolist())\n",
    "            cost = cost_function(hypothesis_function(X, theta), y)\n",
    "            cost_list.append(cost)\n",
    "\n",
    "\n",
    "    return theta, theta_list, cost_list"
   ]
  },
  {
   "cell_type": "markdown",
   "metadata": {},
   "source": [
    "#### Multivariate Linear Regression"
   ]
  },
  {
   "cell_type": "code",
   "execution_count": 15,
   "metadata": {},
   "outputs": [],
   "source": [
    "from sklearn.datasets import load_boston\n",
    "import matplotlib.pyplot as plt\n",
    "import numpy as np\n",
    "import random\n",
    "%matplotlib inline"
   ]
  },
  {
   "cell_type": "code",
   "execution_count": null,
   "metadata": {},
   "outputs": [],
   "source": [
    "def gen_data(numPoints, bias, variance):\n",
    "    x = np.zeros(shape=(numPoints, 3))\n",
    "    y = np.zeros(shape=numPoints)\n",
    "    # basically a straight line\n",
    "    for i in range(0, numPoints):\n",
    "        # bias feature\n",
    "        x[i][0] = random.uniform(0, 1) * variance + i\n",
    "        x[i][1] = random.uniform(0, 1) * variance + i\n",
    "        x[i][2] = 1\n",
    "        # our target variable\n",
    "        y[i] = (i+bias) + random.uniform(0, 1) * variance + 500\n",
    "    return x, y\n",
    "\n",
    "# gen 100 points with a bias of 25 and 10 variance as a bit of noise\n",
    "x, y = gen_data(100, 25, 10)\n",
    "\n",
    "plt.plot(x[:, 0:1], \"ro\")\n",
    "plt.plot(y, \"bo\")\n",
    "\n",
    "plt.show()"
   ]
  },
  {
   "cell_type": "markdown",
   "metadata": {},
   "source": [
    "#### Linear Regression - Performance measure"
   ]
  },
  {
   "cell_type": "code",
   "execution_count": 16,
   "metadata": {},
   "outputs": [
    {
     "data": {
      "text/plain": [
       "0.5"
      ]
     },
     "execution_count": 16,
     "metadata": {},
     "output_type": "execute_result"
    }
   ],
   "source": [
    "# Mean Absolute Error(MAE)\n",
    "# 잔차의 절댓값의 합\n",
    "from sklearn.metrics import median_absolute_error\n",
    "\n",
    "y_true = [3, -0.5, 2, 7]\n",
    "y_pred = [2.5, 0.0, 2, 8]\n",
    "\n",
    "median_absolute_error(y_true, y_pred)"
   ]
  },
  {
   "cell_type": "code",
   "execution_count": 19,
   "metadata": {},
   "outputs": [
    {
     "data": {
      "text/plain": [
       "0.375"
      ]
     },
     "execution_count": 19,
     "metadata": {},
     "output_type": "execute_result"
    }
   ],
   "source": [
    "# Mean Squared Error(MSE)\n",
    "# 잔차 제곱의 sum\n",
    "from sklearn.metrics import mean_squared_error\n",
    "\n",
    "y_true = [3, -0.5, 2, 7]\n",
    "y_pred = [2.5, 0.0, 2, 8]\n",
    "\n",
    "mean_squared_error(y_true, y_pred)"
   ]
  },
  {
   "cell_type": "code",
   "execution_count": 18,
   "metadata": {},
   "outputs": [
    {
     "data": {
      "text/plain": [
       "0.9486081370449679"
      ]
     },
     "execution_count": 18,
     "metadata": {},
     "output_type": "execute_result"
    }
   ],
   "source": [
    "# R squared\n",
    "# 0에서 1 사이 수로 1에 가까울 수록 높은 적합성\n",
    "from sklearn.metrics import r2_score\n",
    "\n",
    "y_true = [3, -0.5, 2, 7]\n",
    "y_pred = [2.5, 0.0, 2, 8]\n",
    "\n",
    "r2_score(y_true, y_pred)"
   ]
  },
  {
   "cell_type": "markdown",
   "metadata": {},
   "source": [
    "* training set과 test set을 분리\n",
    "    - training set으로 test를 할 경우 training set에 과도하게 fitting된 모델 가능성\n",
    "    - 모델을 새로운 데이터 처리가 가능하도록 generalize되어야함"
   ]
  },
  {
   "cell_type": "markdown",
   "metadata": {},
   "source": [
    "* Holdout Method(sampling)\n",
    "    - 데이터를 training과 test로 나누어서 모델을 생성하고 테스트하는 기법\n",
    "    - training과 test를 나누는 비율은 데이터의 크기에 따라 다름\n",
    "    - 일반적으로 training data 2/3, test data 1/3을 활용"
   ]
  },
  {
   "cell_type": "code",
   "execution_count": 21,
   "metadata": {},
   "outputs": [],
   "source": [
    "import numpy as np\n",
    "from sklearn.model_selection import train_test_split\n",
    "\n",
    "X, y = np.arange(10).reshape((5, 2)), range(5)\n",
    "\n",
    "X_train, X_test, y_train, y_test = train_test_split(X, y, test_size=0.33, random_state=42)"
   ]
  },
  {
   "cell_type": "markdown",
   "metadata": {},
   "source": [
    "#### Linear Regression with scikit-learn"
   ]
  },
  {
   "cell_type": "code",
   "execution_count": null,
   "metadata": {},
   "outputs": [],
   "source": []
  }
 ],
 "metadata": {
  "kernelspec": {
   "display_name": "Python 3",
   "language": "python",
   "name": "python3"
  },
  "language_info": {
   "codemirror_mode": {
    "name": "ipython",
    "version": 3
   },
   "file_extension": ".py",
   "mimetype": "text/x-python",
   "name": "python",
   "nbconvert_exporter": "python",
   "pygments_lexer": "ipython3",
   "version": "3.7.6"
  },
  "toc": {
   "base_numbering": 1,
   "nav_menu": {
    "height": "70px",
    "width": "222px"
   },
   "number_sections": false,
   "sideBar": true,
   "skip_h1_title": false,
   "title_cell": "Table of Contents",
   "title_sidebar": "Contents",
   "toc_cell": false,
   "toc_position": {
    "height": "calc(100% - 180px)",
    "left": "10px",
    "top": "150px",
    "width": "195px"
   },
   "toc_section_display": true,
   "toc_window_display": true
  }
 },
 "nbformat": 4,
 "nbformat_minor": 4
}
